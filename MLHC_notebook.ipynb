{
 "cells": [
  {
   "cell_type": "code",
   "execution_count": null,
   "metadata": {},
   "outputs": [],
   "source": [
    "import psycopg2\n",
    "from module_1_cohort_creation import module_1_cohort_creation\n",
    "from module_2_preprocessing import module_2_preprocessing\n",
    "from module_3_model import  module_3_model\n",
    "# csv file with an identinval format to model_a_mimic_cohort_v2\n",
    "file_a_path = \"XXXX\"\n",
    "\n",
    "# the model that you evaluated.\n",
    "model_type = 'a'\n",
    "\n",
    "# db connection\n",
    "db_conn = psycopg2.connect(\n",
    "    host=\"localhost\",\n",
    "    database=\"mimic\",\n",
    "    user=\"postgres\",\n",
    "    password=\"\")\n",
    "\n",
    "# The exact details for XXXXX will be given in the meeting on Augsut 15, 2021 and will be on the portable USB #\n"
   ]
  },
  {
   "cell_type": "code",
   "execution_count": null,
   "metadata": {},
   "outputs": [],
   "source": [
    "# Module 1\n",
    "module_1_cohort_creation(file_a_path, db_conn, model_type)\n",
    "\n",
    "# Module 2\n",
    "module_2_preprocessing(external_validation_set, model_type)\n",
    "\n",
    "# Module 3\n",
    "module_3_model(processed_external_validation_set, model_type)"
   ]
  }
 ],
 "metadata": {
  "kernelspec": {
   "display_name": "Python 3",
   "language": "python",
   "name": "python3"
  },
  "language_info": {
   "codemirror_mode": {
    "name": "ipython",
    "version": 3
   },
   "file_extension": ".py",
   "mimetype": "text/x-python",
   "name": "python",
   "nbconvert_exporter": "python",
   "pygments_lexer": "ipython3",
   "version": "3.5.6"
  }
 },
 "nbformat": 4,
 "nbformat_minor": 2
}