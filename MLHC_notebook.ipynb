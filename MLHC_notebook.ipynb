{
 "cells": [
  {
   "cell_type": "code",
   "execution_count": 4,
   "metadata": {},
   "outputs": [],
   "source": [
    "import psycopg2\n",
    "from module_1_cohort_creation import module_1_cohort_creation\n",
    "from module_2_preprocessing import module_2_preprocessing\n",
    "from module_3_model import  module_3_model\n",
    "import os\n",
    "# csv file with an identinval format to model_a_mimic_cohort_v2\n",
    "if os.name == 'posix':\n",
    "    user = 'roye'\n",
    "else:\n",
    "    user = 'idan'\n",
    "\n",
    "# the model that you evaluated.\n",
    "model_type = 'a'\n",
    "file_a_path = \"'C:/tools/model_a_mimic_cohort_v2.csv'\" if user == 'idan' \\\n",
    "    else \"'/Users/user/Documents/University/Workshop/model_a_mimic_cohort_v2.csv'\"\n",
    "# db connection\n",
    "db_conn = psycopg2.connect(\n",
    "    host=\"localhost\",\n",
    "    database=\"mimic\",\n",
    "    user=\"mimicuser\",\n",
    "    password=\"\")\n",
    "\n",
    "# The exact details for XXXXX will be given in the meeting on Augsut 15, 2021 and will be on the portable USB #\n"
   ]
  },
  {
   "cell_type": "code",
   "execution_count": 5,
   "metadata": {},
   "outputs": [
    {
     "ename": "SyntaxError",
     "evalue": "syntax error at or near \"C\"\nLINE 12:                     FROM C:/tools/model_a _mimic_cohort_v2.c...\n                                  ^\n",
     "output_type": "error",
     "traceback": [
      "\u001B[0;31m---------------------------------------------------------------------------\u001B[0m",
      "\u001B[0;31mSyntaxError\u001B[0m                               Traceback (most recent call last)",
      "\u001B[0;32m/var/folders/fr/v1b4y8cs0qd2v5s2g38zg7sr0000gn/T/ipykernel_32499/2239092189.py\u001B[0m in \u001B[0;36m<module>\u001B[0;34m\u001B[0m\n\u001B[1;32m      1\u001B[0m \u001B[0;31m# Module 1\u001B[0m\u001B[0;34m\u001B[0m\u001B[0;34m\u001B[0m\u001B[0;34m\u001B[0m\u001B[0m\n\u001B[0;32m----> 2\u001B[0;31m \u001B[0mmodule_1_cohort_creation\u001B[0m\u001B[0;34m(\u001B[0m\u001B[0mfile_a_path\u001B[0m\u001B[0;34m,\u001B[0m \u001B[0mdb_conn\u001B[0m\u001B[0;34m,\u001B[0m \u001B[0mmodel_type\u001B[0m\u001B[0;34m)\u001B[0m\u001B[0;34m\u001B[0m\u001B[0;34m\u001B[0m\u001B[0m\n\u001B[0m\u001B[1;32m      3\u001B[0m \u001B[0;34m\u001B[0m\u001B[0m\n\u001B[1;32m      4\u001B[0m \u001B[0;31m# Module 2\u001B[0m\u001B[0;34m\u001B[0m\u001B[0;34m\u001B[0m\u001B[0;34m\u001B[0m\u001B[0m\n\u001B[1;32m      5\u001B[0m \u001B[0;31m# module_2_preprocessing(external_validation_set, model_type)\u001B[0m\u001B[0;34m\u001B[0m\u001B[0;34m\u001B[0m\u001B[0;34m\u001B[0m\u001B[0m\n",
      "\u001B[0;32m~/PycharmProjects/MLHC/module_1_cohort_creation.py\u001B[0m in \u001B[0;36mmodule_1_cohort_creation\u001B[0;34m(file_path, db_conn, model_type)\u001B[0m\n\u001B[1;32m     17\u001B[0m \u001B[0;32mdef\u001B[0m \u001B[0mmodule_1_cohort_creation\u001B[0m\u001B[0;34m(\u001B[0m\u001B[0mfile_path\u001B[0m\u001B[0;34m,\u001B[0m \u001B[0mdb_conn\u001B[0m\u001B[0;34m,\u001B[0m \u001B[0mmodel_type\u001B[0m\u001B[0;34m)\u001B[0m\u001B[0;34m:\u001B[0m\u001B[0;34m\u001B[0m\u001B[0;34m\u001B[0m\u001B[0m\n\u001B[1;32m     18\u001B[0m     \u001B[0mdb\u001B[0m \u001B[0;34m=\u001B[0m \u001B[0msql_helper\u001B[0m\u001B[0;34m.\u001B[0m\u001B[0mSqlHelper\u001B[0m\u001B[0;34m(\u001B[0m\u001B[0mdb_conn\u001B[0m\u001B[0;34m,\u001B[0m \u001B[0muser\u001B[0m\u001B[0;34m)\u001B[0m\u001B[0;34m\u001B[0m\u001B[0;34m\u001B[0m\u001B[0m\n\u001B[0;32m---> 19\u001B[0;31m     \u001B[0mdb\u001B[0m\u001B[0;34m.\u001B[0m\u001B[0mload_cohort_to_db\u001B[0m\u001B[0;34m(\u001B[0m\u001B[0mfile_path\u001B[0m\u001B[0;34m,\u001B[0m \u001B[0mmodel_type\u001B[0m\u001B[0;34m)\u001B[0m\u001B[0;34m\u001B[0m\u001B[0;34m\u001B[0m\u001B[0m\n\u001B[0m\u001B[1;32m     20\u001B[0m     \u001B[0mdb\u001B[0m\u001B[0;34m.\u001B[0m\u001B[0mcreate_features_table\u001B[0m\u001B[0;34m(\u001B[0m\u001B[0;34m)\u001B[0m\u001B[0;34m\u001B[0m\u001B[0;34m\u001B[0m\u001B[0m\n\u001B[1;32m     21\u001B[0m     \u001B[0mdb\u001B[0m\u001B[0;34m.\u001B[0m\u001B[0minit_boolean_features\u001B[0m\u001B[0;34m(\u001B[0m\u001B[0;34m)\u001B[0m\u001B[0;34m\u001B[0m\u001B[0;34m\u001B[0m\u001B[0m\n",
      "\u001B[0;32m~/PycharmProjects/MLHC/sql_helper.py\u001B[0m in \u001B[0;36mload_cohort_to_db\u001B[0;34m(self, file_path, model_type)\u001B[0m\n\u001B[1;32m     60\u001B[0m                     CSV HEADER;\"\"\"\n\u001B[1;32m     61\u001B[0m \u001B[0;34m\u001B[0m\u001B[0m\n\u001B[0;32m---> 62\u001B[0;31m         \u001B[0mself\u001B[0m\u001B[0;34m.\u001B[0m\u001B[0mexecute_query\u001B[0m\u001B[0;34m(\u001B[0m\u001B[0mquery\u001B[0m\u001B[0;34m)\u001B[0m\u001B[0;34m\u001B[0m\u001B[0;34m\u001B[0m\u001B[0m\n\u001B[0m\u001B[1;32m     63\u001B[0m \u001B[0;34m\u001B[0m\u001B[0m\n\u001B[1;32m     64\u001B[0m     \u001B[0;32mdef\u001B[0m \u001B[0mcreate_features_table\u001B[0m\u001B[0;34m(\u001B[0m\u001B[0mself\u001B[0m\u001B[0;34m)\u001B[0m\u001B[0;34m:\u001B[0m\u001B[0;34m\u001B[0m\u001B[0;34m\u001B[0m\u001B[0m\n",
      "\u001B[0;32m~/PycharmProjects/MLHC/sql_helper.py\u001B[0m in \u001B[0;36mexecute_query\u001B[0;34m(self, query, params)\u001B[0m\n\u001B[1;32m     16\u001B[0m                 \u001B[0mexecute_result\u001B[0m \u001B[0;34m=\u001B[0m \u001B[0mself\u001B[0m\u001B[0;34m.\u001B[0m\u001B[0mcursor\u001B[0m\u001B[0;34m.\u001B[0m\u001B[0mexecute\u001B[0m\u001B[0;34m(\u001B[0m\u001B[0mquery\u001B[0m\u001B[0;34m,\u001B[0m \u001B[0mparams\u001B[0m\u001B[0;34m)\u001B[0m\u001B[0;34m\u001B[0m\u001B[0;34m\u001B[0m\u001B[0m\n\u001B[1;32m     17\u001B[0m             \u001B[0;32melse\u001B[0m\u001B[0;34m:\u001B[0m\u001B[0;34m\u001B[0m\u001B[0;34m\u001B[0m\u001B[0m\n\u001B[0;32m---> 18\u001B[0;31m                 \u001B[0mexecute_result\u001B[0m \u001B[0;34m=\u001B[0m \u001B[0mself\u001B[0m\u001B[0;34m.\u001B[0m\u001B[0mcursor\u001B[0m\u001B[0;34m.\u001B[0m\u001B[0mexecute\u001B[0m\u001B[0;34m(\u001B[0m\u001B[0mquery\u001B[0m\u001B[0;34m)\u001B[0m\u001B[0;34m\u001B[0m\u001B[0;34m\u001B[0m\u001B[0m\n\u001B[0m\u001B[1;32m     19\u001B[0m         \u001B[0;32mexcept\u001B[0m \u001B[0mException\u001B[0m \u001B[0;32mas\u001B[0m \u001B[0me\u001B[0m\u001B[0;34m:\u001B[0m\u001B[0;34m\u001B[0m\u001B[0;34m\u001B[0m\u001B[0m\n\u001B[1;32m     20\u001B[0m             \u001B[0mutils\u001B[0m\u001B[0;34m.\u001B[0m\u001B[0mlog_dict\u001B[0m\u001B[0;34m(\u001B[0m\u001B[0mmsg\u001B[0m\u001B[0;34m=\u001B[0m\u001B[0;34mf'DB error: {query}, Exception: {e}'\u001B[0m\u001B[0;34m)\u001B[0m\u001B[0;34m\u001B[0m\u001B[0;34m\u001B[0m\u001B[0m\n",
      "\u001B[0;31mSyntaxError\u001B[0m: syntax error at or near \"C\"\nLINE 12:                     FROM C:/tools/model_a _mimic_cohort_v2.c...\n                                  ^\n"
     ]
    }
   ],
   "source": [
    "# Module 1\n",
    "module_1_cohort_creation(file_a_path, db_conn, model_type)\n",
    "\n",
    "# Module 2\n",
    "# module_2_preprocessing(external_validation_set, model_type)\n",
    "\n",
    "# Module 3\n",
    "# module_3_model(processed_external_validation_set, model_type)"
   ]
  },
  {
   "cell_type": "code",
   "execution_count": null,
   "metadata": {},
   "outputs": [],
   "source": []
  }
 ],
 "metadata": {
  "kernelspec": {
   "display_name": "Python 3 (ipykernel)",
   "language": "python",
   "name": "python3"
  },
  "language_info": {
   "codemirror_mode": {
    "name": "ipython",
    "version": 3
   },
   "file_extension": ".py",
   "mimetype": "text/x-python",
   "name": "python",
   "nbconvert_exporter": "python",
   "pygments_lexer": "ipython3",
   "version": "3.7.9"
  }
 },
 "nbformat": 4,
 "nbformat_minor": 2
}