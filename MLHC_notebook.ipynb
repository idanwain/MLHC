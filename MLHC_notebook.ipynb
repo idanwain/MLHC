{
 "cells": [
  {
   "cell_type": "code",
   "execution_count": 1,
   "metadata": {},
   "outputs": [],
   "source": [
    "import psycopg2\n",
    "from module_1_cohort_creation import module_1_cohort_creation\n",
    "from module_2_preprocessing import module_2_preprocessing\n",
    "from module_3_model import  module_3_model\n",
    "import os\n",
    "# csv file with an identinval format to model_a_mimic_cohort_v2\n",
    "if os.name == 'posix':\n",
    "    user = 'roye'\n",
    "else:\n",
    "    user = 'idan'\n",
    "\n",
    "# the model that you evaluated.\n",
    "model_type = 'a'\n",
    "file_a_path = \"'C:/tools/model_a_mimic_cohort_v2.csv'\" if user == 'idan' \\\n",
    "    else \"'/Users/user/Documents/University/Workshop/model_a_mimic_cohort_v2.csv'\"\n",
    "# db connection\n",
    "if user == 'idan':\n",
    "    db_conn = psycopg2.connect(\n",
    "    host=\"localhost\",\n",
    "    database=\"mimic\",\n",
    "    user=\"postgres\",\n",
    "    password=\"\")\n",
    "else:\n",
    "    db_conn = psycopg2.connect(\n",
    "        host=\"localhost\",\n",
    "        database=\"mimic\",\n",
    "        user=\"mimicuser\",\n",
    "        password=\"\",\n",
    "        options=\"--search_path=mimiciii\"\n",
    "    )\n",
    "\n",
    "# The exact details for XXXXX will be given in the meeting on Augsut 15, 2021 and will be on the portable USB #\n"
   ]
  },
  {
   "cell_type": "code",
   "execution_count": null,
   "metadata": {
    "pycharm": {
     "is_executing": true
    }
   },
   "outputs": [
    {
     "name": "stdout",
     "output_type": "stream",
     "text": [
      "Started module 1\n"
     ]
    }
   ],
   "source": [
    "# Module 1\n",
    "print(\"Started module 1\")\n",
    "external_validation_set = module_1_cohort_creation(file_a_path, db_conn, model_type)\n",
    "# Module 2\n",
    "print(\"Finished module 1\\nStarted module 2\")\n",
    "processed_external_validation_set = module_2_preprocessing(external_validation_set, model_type)\n",
    "\n",
    "# Module 3\n",
    "print(\"Finished module 2\\nStarted module 3\")\n",
    "output_path = module_3_model(processed_external_validation_set, model_type)\n",
    "print(\"Results saved to %s\" %output_path)"
   ]
  },
  {
   "cell_type": "code",
   "execution_count": null,
   "metadata": {
    "pycharm": {
     "is_executing": true
    }
   },
   "outputs": [],
   "source": []
  }
 ],
 "metadata": {
  "kernelspec": {
   "display_name": "Python 3 (ipykernel)",
   "language": "python",
   "name": "python3"
  },
  "language_info": {
   "codemirror_mode": {
    "name": "ipython",
    "version": 3
   },
   "file_extension": ".py",
   "mimetype": "text/x-python",
   "name": "python",
   "nbconvert_exporter": "python",
   "pygments_lexer": "ipython3",
   "version": "3.7.9"
  }
 },
 "nbformat": 4,
 "nbformat_minor": 2
}