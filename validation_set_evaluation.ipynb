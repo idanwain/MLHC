{
 "cells": [
  {
   "cell_type": "code",
   "execution_count": 7,
   "metadata": {},
   "outputs": [],
   "source": [
    "import os\n",
    "import pandas as pd\n",
    "from sklearn.metrics import roc_auc_score, precision_recall_curve, auc, plot_precision_recall_curve"
   ]
  },
  {
   "cell_type": "code",
   "execution_count": 8,
   "metadata": {},
   "outputs": [
    {
     "name": "stdout",
     "output_type": "stream",
     "text": [
      "The precentage of patients that were excluded is 4.10 with total of N = 127 patients\n",
      "Total AUROC is 0.517\n",
      "Total AUPR is 0.536\n"
     ]
    }
   ],
   "source": [
    "#load files\n",
    "df_risk_score = pd.read_csv('model_a_mimic_cohort_risk_score_group_8.csv')\n",
    "\n",
    "# you won't have the target\n",
    "if os.name == 'posix':\n",
    "    user = 'roye'\n",
    "else:\n",
    "    user = 'idan'\n",
    "\n",
    "model_type = 'a'\n",
    "targets_path = f\"'C:/tools/model_{model_type}_mimic_cohort_target.csv'\" if user == 'idan' \\\n",
    "    else f\"'/Users/user/Documents/University/Workshop/model_{model_type}_mimic_cohort_target.csv'\"\n",
    "df_target = pd.read_csv(targets_path)\n",
    "num_validation_set = len(df_target)\n",
    "\n",
    "#merge risk scores and targets\n",
    "df = df_risk_score.merge(df_target,on='identifier', how='left')\n",
    "\n",
    "#Calculate AUROC\n",
    "auroc = roc_auc_score(df['target'],df['risk_score'])\n",
    "\n",
    "#Calculate AUPR\n",
    "precision, recall, thresholds = precision_recall_curve(df['target'],df['risk_score'])\n",
    "aupr = auc(recall, precision)\n",
    "\n",
    "excluded_patients = num_validation_set - len(df)\n",
    "prop_excluded_patients = round((excluded_patients/num_validation_set)*100,2)\n",
    "print(\"The precentage of patients that were excluded is %.2f with total of N = %d patients\" % (prop_excluded_patients,excluded_patients))\n",
    "print(\"Total AUROC is %.3f\" % auroc)\n",
    "print(\"Total AUPR is %.3f\" % aupr)"
   ]
  }
 ],
 "metadata": {
  "kernelspec": {
   "display_name": "Python 3",
   "language": "python",
   "name": "python3"
  },
  "language_info": {
   "codemirror_mode": {
    "name": "ipython",
    "version": 3
   },
   "file_extension": ".py",
   "mimetype": "text/x-python",
   "name": "python",
   "nbconvert_exporter": "python",
   "pygments_lexer": "ipython3",
   "version": "3.5.6"
  }
 },
 "nbformat": 4,
 "nbformat_minor": 2
}